{
  "cells": [
    {
      "cell_type": "markdown",
      "metadata": {
        "id": "ghQxhIptuz28"
      },
      "source": [
        "# 03. 통계학 기초\n",
        "> 머신러닝에 반드시 필요한 통계학의 기초 이론을 배웁니다.\n",
        "\n",
        "- toc: true\n",
        "- badges: true\n",
        "- comments: true\n",
        "- categories: [Day 2]\n",
        "- permalink: /statics_theory\n",
        "- exec: colab"
      ]
    },
    {
      "cell_type": "markdown",
      "metadata": {
        "id": "qTYtFDcBuz2-"
      },
      "source": [
        "본격적으로 머신러닝의 How에 해당하며, 데이터의 불확실성을 모델링 하는 방법인 통계에 대해 배워봅시다. 물론 통계 이론 전체를 배우려면 엄청나게 방대한 양의 내용을 배워야하지만, 시간이 한정적이므로 현재 머신러닝 모델들을 이해하는 수준까지만 공부하도록합니다."
      ]
    },
    {
      "cell_type": "markdown",
      "metadata": {
        "id": "uXlyRULfuz2_"
      },
      "source": [
        "<br><br>\n",
        "\n",
        "### 1. 통계학이란?\n",
        "\n",
        "![img](https://github.com/gusdnd852/bigdata-lecture/blob/master/_notebooks/img/Day2/90.jpg?raw=true)\n",
        "\n",
        "통계란 무엇일까요? **통계는 다양한 데이터를 가지고 다양한 가설을 세우는 과정**입니다. 그러나 100% 정확한 가설은 거의 존재하지 않습니다. 때문에 우리는 이러한 가설의 불확실성에 대해 생각해봐야합니다. 통계에서는 이러한 **불확실성을 '확률'이라는 도구를 사용하여 표현**합니다. 그런데 문제는 이러한 **'확률'을 바라보는 관점이 학파마다 달랐다** 는 것입니다."
      ]
    },
    {
      "cell_type": "markdown",
      "metadata": {
        "id": "ItN-skgnuz2_"
      },
      "source": [
        "<br>\n",
        "\n",
        "### 2. 빈도주의(Frequentist) VS 베이지안(Bayesian)\n",
        "\n",
        "![img](https://github.com/gusdnd852/bigdata-lecture/blob/master/_notebooks/img/Day2/91.png?raw=true)\n",
        "\n",
        "확률을 바라보는 관점에는 크게 두가지가 있습니다. 첫번째는 빈도주의, 두번째는 베이지안입니다. 이들에 대해 알아봅시다.\n",
        "<br><br>\n",
        "\n",
        "#### 2.1. 빈도주의 확률 (Frequentist)\n",
        "\n",
        "빈도주의는 보통 **데이터의 관점**에서, 확률을 생각합니다. 이들 빈도주의자들에게는 확률이란 **사건의 발생 빈도**를 의미합니다. 간단하게 예를 들어 설명하겠습니다. 먼저 \"동전을 던졌을 때 앞면이 나올 확률은 $0.5$이다.\" 라는 가설을 세웁니다. 이때 이 확률 $0.5$는 앞면이라는 **사건이 발생할 확률**을 의미합니다.\n",
        "<br><br>\n",
        "   \n",
        "그리고 나서 동전을 100번, 1000번 던져보고 앞면이 나올 확률이 약 $0.5$와 매우 비슷하다는 것을 확인하고 **가설을 채택**합니다. 즉, 빈도주의자들은 어떤 시스템을 모델링할 때, 가설(모델)을 고정해둔 상태에서 데이터를 계속 실험해봐서 가설이 맞는지 안맞는지 보고, 가설을 채택 혹은 기각합니다. 빈도주의 학파가 집중하는 불확실성은 Aleatory Uncertainty라고 하는데, 이는 **사건 발생의 Random함이 불확실성을 만든다**라는 관점으로 해석할 수 있습니다. 그들은 그들의 가설을 믿습니다. 그리고 데이터를 불신합니다.\n",
        "<br><br>\n",
        "\n",
        "#### 2.2. 베이지안 확률 (Bayesian)\n",
        "\n",
        "베이지안은 보통 **가설의 관점**에서 확률을 생각합니다. 이들 베이지안들에게는 확률이란 **가설의 신뢰도**를 의미합니다. 간단하게 예를 들면, 먼저 \"동전을 던졌을 때 앞면이 나올 확률이 절반 정도 일것이라는 가설의 신뢰도는 $0.5$이다\"라고 생각합니다. 이 때, 확률 $0.5$는 **주장하는 가설에 대한 신뢰도**입니다. <br><br>\n",
        "\n",
        "그리고 나서 실험을 진행하고 앞면이 나올 확률이 절반정도 된다는 것을 확인하고 **기존 가설의 신뢰도를 업데이트**합니다. 계속해서 확인하면 계속 절반정도만 앞면이 나올 것이고 가설의 신뢰도는 거의 **1.0**에 가까워질 것입니다. 즉, 베이지안 학파는 어떤 시스템을 모델링할 때, 데이터를 고정한 상태에서 가설을 점점 잘 맞게 변화시켜나갑니다. 베이지안 학파가 집중하는 불확실성은 Epidemic Uncertainty라고 하는데, 이는 **가설의 신뢰도가 불확실성을 만든다**라는 관점으로 해석할 수 있습니다. 그들은 그들의 모델을 불신합니다. 그리고 데이터를 믿습니다. 그리고 이 것이 베이지안이 빈도주의를 꺾고 세상을 지배하게 된 이유입니다. 이러한 관점의 차이를 이해하고 베이즈 정리에 대해 이해해봅시다.<br><br>"
      ]
    },
    {
      "cell_type": "markdown",
      "metadata": {
        "id": "dFkWEsaTuz2_"
      },
      "source": [
        "<br>\n",
        "\n",
        "### 3. 베이즈 정리\n",
        "\n",
        "![](https://github.com/gusdnd852/bigdata-lecture/blob/master/_notebooks/img/Day2/113.gif?raw=true)\n",
        "\n",
        "<br><br>\n",
        "\n",
        "#### 3.1. 베이즈 정리의 직관적 이해 (1)\n",
        "베이즈 정리의 수식을 곧바로 이해하는 것은 아직 어려울 것입니다. 따라서 직관적으로 이해할 수 있는 예제를 봅시다.\n",
        "<br><br>\n",
        "\n",
        "![](https://github.com/gusdnd852/bigdata-lecture/blob/master/_notebooks/img/Day2/93.gif?raw=true)\n",
        "\n",
        "Steve라는 미국인이 있었습니다. 그는 수줍지만 그래도 남들을 잘 도와주는 편이고 순하고 깨끗한 영혼을 가졌습니다. Steve의 성격이 주어졌을 때, 그는 농부일까요? 도서관 사서일까요?\n",
        "<br><br>\n",
        "\n",
        "![](https://github.com/gusdnd852/bigdata-lecture/blob/master/_notebooks/img/Day2/94.gif?raw=true)\n",
        "\n",
        "대부분의 여러분이 농부보다는 도서관 사서와 어울린다고 생각하셨을 것입니다. 실제로 조사 결과 사서들의 대부분인 40%가 그러한 성격을 가지고 있었고, 농부들의 10%가 해당 성격을 가지고 있었다고 가정 해봅시다. 그렇다면 스티브는 사서일까요?<br><br>\n",
        "\n",
        "![](https://github.com/gusdnd852/bigdata-lecture/blob/master/_notebooks/img/Day2/95.gif?raw=true)\n",
        "\n",
        "그럴싸하지만 아닙니다. 미국에는 일반적으로 1 : 20의 비율로 농부의 수가 도서관 사서보다 훨씬 많습니다. 따라서 Steve는 농부일 수도 있습니다.  <br><br>\n",
        "\n",
        "![](https://github.com/gusdnd852/bigdata-lecture/blob/master/_notebooks/img/Day2/96.gif?raw=true)\n",
        "\n",
        "그렇다면 숫자를 10배 늘려서 직접 계산해봅시다. 아직 Steve의 성격이 무엇인지는 모르지만, Steve를 포함해서 미국에서 사서 10명과 농부 200명을 데려왔습니다. 왼쪽에 있는 10명의 사람은 도서관 사서이고, 오른쪽에 있는 200명의 사람은 농부입니다. Steve의 성격을 알기 전까지, Steve가 사서일거라는 주장의 신뢰도는 $\\frac{10}{210} = 4.7$퍼센트가 됩니다.\n",
        "<br><br>\n",
        "\n",
        "![](https://github.com/gusdnd852/bigdata-lecture/blob/master/_notebooks/img/Day2/97.gif?raw=true)\n",
        "\n",
        "그러다가, Steve가 해당 성격을 가졌다는 것을 알게 되었다고 합시다. 이 순간, Steve는 사서의 40%와 농부의 10%에 포함되게 되었습니다. 그래서 그 이외의 나머지 사람들(사서의 60%, 농부의 90%)은 의미가 없어졌습니다.<br><br>\n",
        "\n",
        "![](https://github.com/gusdnd852/bigdata-lecture/blob/master/_notebooks/img/Day2/98.gif?raw=true)\n",
        "\n",
        "Steve가 해당 성격을 가졌기 때문에, 해당 성격을 가지지 않은 나머지 사람들은 전부 제외하고, P(사서 확률 | 해당 성격을 가졌을 때)을 구합니다. Steve의 직업이 무엇이든, 성격이 그러한 것은 사실이므로 조건에 부합하지 않는 부분은 전부 제거합니다. **이 부분이 베이즈 정리의 핵심입니다.** 베이즈 정리는 결국 조건부확률이기 때문에 조건에 해당하지 않는 부분은 전부 제외할 수 있습니다. 따라서 표본공간이 변하게 되고, 계산 결과로 $\\frac{4}{4 + 20} = 16.7$퍼센트가 나옵니다. 생각보다는 저조하죠? 그래도 성격에 대한 설명을 읽기 전인 $\\frac{10}{210} = 4.7$퍼센트 보다는 높아졌습니다.\n",
        "<br><br>\n",
        "\n",
        "Steve의 성격을 알게 된 것이 그 자체만으로 Steve가 사서일 것이라는 주장에 대한 신뢰도가 되는건 아닙니다. 베이지안 통계에서는 Epidemic Uncertainty를 다루기 때문에 데이터가 곧바로 어떤 분류일지에 대해 생각하는게 아니라, 그 데이터를 확인함으로서 기존 가설을 채택/기각하는 것이 아니라, 가설에 대한 신뢰도를 계속해서 업데이트 합니다.\n",
        "<br><br>\n",
        "\n",
        "\n",
        "#### 3.2. 베이즈 정리의 직관적 이해 (2)\n",
        "\n",
        "![](https://github.com/gusdnd852/bigdata-lecture/blob/master/_notebooks/img/Day2/99.gif?raw=true)\n",
        "\n",
        "또 다른 예시를 하나 봅시다. 수학자 W씨는 발렌타인 데이 때 좋아하던 여성분에게 초콜릿을 선물 받았습니다.\n",
        "<br><br>\n",
        "\n",
        "![](https://github.com/gusdnd852/bigdata-lecture/blob/master/_notebooks/img/Day2/100.gif?raw=true)\n",
        "\n",
        "W씨는 머릿속에 온갖 생각이 다 들었지만, 여성분이 그냥 별뜻 없이 초콜릿을 준 것 일수도 있습니다. W씨는 수학을 이용해서 초콜릿을 받았을 때, 자신을 얼마나 좋아할지 계산해보기로 했습니다.\n",
        "<br><br>\n",
        "\n",
        "![](https://github.com/gusdnd852/bigdata-lecture/blob/master/_notebooks/img/Day2/101.gif?raw=true)\n",
        "\n",
        "![](https://github.com/gusdnd852/bigdata-lecture/blob/master/_notebooks/img/Day2/102.gif?raw=true)\n",
        "\n",
        "직접 물어보기 전에는 상대가 얼만큼 자신을 좋아하는지 알 수 없기 때문에, 좋아하는 것과 싫어하는 것을 50대 50으로 가정하고, 계산을 하기로 했습니다. 50대 50으로 생각하는 것은 \"이유 불충분의 원리\"라고 부릅니다.\n",
        "<br><br>\n",
        "\n",
        "![](https://github.com/gusdnd852/bigdata-lecture/blob/master/_notebooks/img/Day2/103.gif?raw=true)\n",
        "\n",
        "직접 몇가지 통계자료를 조사해본 결과 좋아하는 사람에게 초콜릿을 줄 확률은 40%, 주지 않을 확률은 60%이며, 좋아하지 않는 사람에게 초콜릿을 줄 확률은 30%, 주지 않을 확률은 70%라는 것을 알았습니다.\n",
        "<br><br>\n",
        "\n",
        "![](https://github.com/gusdnd852/bigdata-lecture/blob/master/_notebooks/img/Day2/104.gif?raw=true)\n",
        "\n",
        "예시를 들기 위해 100명의 사람이 있다고 해봅시다. 이유 불충분의 원리에 따라 50명의 사람은 누군가에게 사랑을 받고 있고, 나머지 50명은 받지 못하고 있습니다. 이 때, 사랑을 받고 있으면서 초콜릿을 줄 확률은 40%, 주지 않을 확률은 60% 입니다. 따라서 P(초콜릿 | 사랑받음) = 0.4입니다.\n",
        "<br><br>\n",
        "\n",
        "\n",
        "![](https://github.com/gusdnd852/bigdata-lecture/blob/master/_notebooks/img/Day2/105.gif?raw=true)\n",
        "\n",
        "그리고, 예의상 초콜릿을 받은 사람 중에서 30%는 초콜릿을 받았고, 70%는 초콜릿을 받지 못했습니다. 따라서 P(초콜릿 | 사랑받지않음) = 0.3입니다.\n",
        "<br><br>\n",
        "\n",
        "\n",
        "![](https://github.com/gusdnd852/bigdata-lecture/blob/master/_notebooks/img/Day2/106.gif?raw=true)\n",
        "\n",
        "우리가 원하는 것은 초콜릿을 받았을 때, 사랑받고 있을 확률입니다. 그러나 우리가 가진 데이터는 사랑받고 있을 때, 초콜릿을 가진 데이터입니다. 이 둘은 약간은 상반되는 개념입니다.\n",
        "<br><br>\n",
        "\n",
        "![](https://github.com/gusdnd852/bigdata-lecture/blob/master/_notebooks/img/Day2/107.gif?raw=true)\n",
        "\n",
        "수학자 W씨는 이미 초콜릿을 받았고, 초콜릿을 받은 상황만 고려하면 됩니다. 따라서 조건에 해당되는 부분만 남기고 모두 지웁니다. 이 과정에서 표본공간이 변하게 됩니다.\n",
        "<br><br>\n",
        "\n",
        "![](https://github.com/gusdnd852/bigdata-lecture/blob/master/_notebooks/img/Day2/108.gif?raw=true)\n",
        "\n",
        "초콜릿을 받은 전체 35명의 사람 중, 20명이 사랑받고 있으니 P(사랑받고 있음 | 초콜릿)은 $\\frac{20}{35}$로 총 57%가 됩니다.\n",
        "<br><br>\n",
        "\n",
        "![](https://github.com/gusdnd852/bigdata-lecture/blob/master/_notebooks/img/Day2/109.gif?raw=true)\n",
        "\n",
        "따라서 수학자 W씨는 여성분이 자신을 좋아할 확률을 기존에 생각했던 50%에서 57%로 업데이트합니다. 그러나 57%는 너무 낮습니다. 수학자 W씨는 이대로 포기해야할까요?\n",
        "<br><br>\n",
        "\n",
        "![](https://github.com/gusdnd852/bigdata-lecture/blob/master/_notebooks/img/Day2/112.gif?raw=true)\n",
        "\n",
        "그렇지 않습니다. 베이즈 정리는 데이터가 축적되면 축적될수록 훨씬 강해집니다. 수학자 W씨는 초콜릿을 받은 이후, 같이 밥을 먹은 사건, 밤새 전화를 했던 사건 등을 토대로 점점 사후확률을 더욱 높게 업데이트해 나갑니다. 그리고, 이러한 과정은 우리가 배우고 있는 머신러닝/딥러닝 알고리즘과 정확히 일치합니다.\n",
        "<br><br>\n",
        "\n",
        "\n",
        "#### 3.3. 왜 머신러닝은 베이지안인가?\n",
        "![](https://github.com/gusdnd852/bigdata-lecture/blob/master/_notebooks/img/Day2/110.png?raw=true)\n",
        "<br>\n",
        "\n",
        "- 머신러닝에 쓰이는 데이터셋은 고정적이다.\n",
        "\n",
        "빈도주의자들은 가설을 고정해놓고, 시행을 계속하며 랜덤한 데이터를 계속 만들어냅니다. 그러나 베이지안은 데이터를 고정해놓고, 시행을 계속하며 기존 가설을 점점 더 좋게 업데이트 합니다. 머신러닝에 있어서 데이터는 정말 귀중한 자원이며, 일정한 패턴을 띄고 있어야합니다. 따라서 무제한적으로 반복시행하여 만들어낸 랜덤 데이터 등이 머신러닝 데이터셋을 대체할 수 없습니다. 랜덤생성을 하지 않는다면 기존에 가진 데이터 셋으로 학습해야하는데, 무제한적으로 반복실험 할 만큼의 데이터를 구하는 것 자체가 너무나 어려운 일입니다.\n",
        "<br><br>\n",
        "\n",
        "- 머신러닝의 '학습'은 사실 사후확률 업데이트이다.\n",
        "\n",
        "몇몇 알고리즘(K-NN, 트리기반 등등)은 해당하지 않는 이야기이긴 합니다만, 그 외의 많은 머신러닝 분류 알고리즘과 모든 신경망 기반 딥러닝 분류 알고리즘들은 최종 출력값을 Sigmoid나 Softmax 함수 등에 연결하여 최종적인 사후확률을 구해냅니다. 이때 사용되는 **Sigmoid 함수와 Softmax 함수가 바로 베이즈 정리 공식과 100% 동일한 함수**입니다.\n",
        "<br><br>\n",
        "\n",
        "즉, 대부분의 머신러닝/딥러닝 알고리즘의 출력값은 해당 데이터가 맞을 확률보다는, 해당 가설의 신뢰도를 의미합니다. 이렇게 구해진 **사후확률은 다시 사전확률이 되고, 다시 한번 관측을 수행함으로서 더 나은 사후확률을 계속해서 만들어냅니다**. 그래서 몇몇 전문가들은 머신러닝/딥러닝을 중/고급 통계응용이라고도 부릅니다.\n",
        "<br><br>\n",
        "\n",
        "- 머신러닝은 베이지안들의 철학, 그 자체이다.\n",
        "\n",
        "빈도주의자들은 가설(모델)을 아예 고정해놓고 데이터를 지속적으로 변화해서 실험한 뒤, 가설(모델)이 맞는 가설(모델)인지, 아닌지 평가합니다. 이러한 방식을 쓰면, 가설(모델)은 계속 고정되어있습니다. 만약 가설이 틀리면 사람이 직접 가설을 바꾸고 다시 테스트합니다. 따라서 가설 자체를 사람이 수동적으로 설정하고 데이터를 넣어보는 것이 빈도주의자들의 방식입니다. 이게 바로 Rule based 방식입니다. 규칙(if문)을 사람이 정합니다. 그리고 데이터를 넣어서 결과를 봅니다.\n",
        "<br><br>\n",
        "\n",
        "베이지안은 데이터셋을 고정해놓고, 가설(모델)을 지속적으로 변화시킵니다. 데이터를 설명할 분류/회귀를 위한 선이나 면(모델)을 계속 찾아나가면서 모델에 대한 신뢰도(정확도)를 계속 개선(업데이트)합니다. 이러한 방식을 쓰면, 데이터는 계속 고정되어있지만 모델이 계속 변합니다. 즉, 데이터는 고정하되, 모델이 계속 변하게 파라미터를 학습시키는 것이 베이지안들의 방식입니다. 그리고 이게 바로 머신러닝입니다. 규칙을 컴퓨터가 찾습니다. 대신 데이터는 고정되어있습니다.\n",
        "<br><br>\n",
        "\n",
        "제가 존경하는 조지워싱턴 대학의 최재화교수님은 베이지안을 부모 찾기라고 비유하셨습니다. (https://www.youtube.com/watch?v=Gpi6Uuw6DJM) 이제 막 태어난 많은 아이들이 있고 이들의 부모를 찾아야할때, 빈도주의자들은 부모입장에서 맞는 아이들을 매칭시키는가 하면, 베이지안은 아이들의 입장에서 부모들을 매칭시키는 것을 떠올리시면 정확합니다. 두 사상 모두 결국에 하고자 하는 것은 같지만 관점이 정 반대입니다.\n",
        "<br><br>\n",
        "\n",
        "#### 3.4. 베이즈 정리 속 각 부분의 의미\n",
        "\n",
        "![](https://github.com/gusdnd852/bigdata-lecture/blob/master/_notebooks/img/Day2/92.jpg?raw=true)\n",
        "<br><br>\n",
        "\n",
        "- Prior (사전확률) : $P(A)$\n",
        "\n",
        "Prior는 사전확률을 의미합니다. 사전확률은 데이터를 관측하기 전에 미리 예상하는 확률입니다. Steve의 예시에서는 미국의 농부 : 사서 = 20 : 1의 비율이 사전확률이였고, 발렌타인데이 예시는 이유 불충분의 원리로 사랑받음 : 사랑받지않음 = 50 : 50으로 설정한 것이 바로 사전확률입니다.\n",
        "<br><br>\n",
        "\n",
        "- Likelihood (우도) : $P(B|A)$\n",
        "\n",
        "베이즈 정리에서 가장 헷갈리는 영역인 Likelihood입니다. 그러나 어려울 것 하나도 없습니다. 예시를 생각해봅시다. Steve의 예시에서는 40%의 사서가 그러한 성격을 갖고 있다는 정보가 우도입니다. 발렌타인데이 예시에서는 보통 사랑하는 상태에서는 40%의 확률로 초콜릿을 준다는 정보가 Likelihood입니다. 우리가 구하고자 하는 확률은 $P(A|B)$입니다. 그러나 우도는 반대로 $P(B|A)$입니다. <br><br>\n",
        "\n",
        "이 것을 머신러닝의 문제로 확장해서 생각해봅시다. 분류 등의 문제를 풀 때, 우리가 알고 싶은 것은 $P(D|M)$입니다. 여기에서 D는 Data, M는 Model입니다. 우리가 머신러닝 모델을 사용, 테스트, 서비스 등을 할 때, 알고 싶은 것은 특정한 모델이 주어져서 고정되어 있을 때, 새로운 데이터를 잘 맞추는지에 대한 확률입니다. 이 것은 모델은 고정해둔 상태에서 데이터를 계속 변화시키는 빈도주의적 관점과 흡사하며, 이후에 말할 사후확률에 해당합니다.<br><br>\n",
        "\n",
        "그러나 우리가 **학습**할 때는 $P(M|D)$이 최대화되도록 학습시킵니다. (Maximum Likelihood Estimation) 우리는 모델을 학습시킬 때, 고정된 데이터셋을 사용합니다. 그리고 좋은 가설을 찾고자 합니다. Data가 고정되어 주어진 상태에서, 그 가설이 정답을 잘 맞추는 지에 대한 것이 Likelihood입니다. 이 것은 데이터를 고정한 상태에서 가설을 변화시키는 것이기 때문에 베이지안 관점과 흡사합니다. 머신러닝이 베이지안 그 자체라는 말이 어느정도는 느낌이 오시나요? 어디에서도 Likelihood를 이렇게 빈도주의와 베이지안의 철학 차이로 연결해서 설명하지 않습니다. (보통은 \"확률분포함수의 함수값이다.\" 라는 설명을 합니다. 사실은 맞으나 와닿지는 않습니다)저는 이 내용을 깨닫는데 2년이 걸렸습니다. 여러분은 겨우 이틀만에 제 2년의 경험을 흡수하신 겁니다.<br><br>\n",
        "\n",
        "- Evidence : $P(B)$\n",
        "\n",
        "Evidence는 '증거'라고 불리는데, 사실 별로 와닿지 않아서 그냥 한국어 번역을 쓰지 않았습니다. Evidence는 $P(B)$입니다. 그러니까, 전체에서 $P(B)$라는 것은 필요 없는 것 다 지우고, 조건에 맞는 것만 보겠다라는 것입니다. 사실 표본공간을 $P(B)$로 제한하는 것이 베이지안 분석 (Bayesian Analysis)의 핵심 중 한가지인데, 머신러닝에서는 이 Evidence가 별로 중요하지 않습니다. 머신러닝에서는 $P(B)$는 $P(M)$에 해당하며, 현재 모델이 예측하려고 하는 모든 클래스를 이야기합니다. 만약 개와 고양이와 기린이을 분류하는 모델이 있다면 $P(M)$는 개 + 고양이 + 기린의 확률(=1)이며, $P(M|D)$(likelihood)는 데이터셋이 고정되어있을 때, 모델이 개 혹은 고양이 혹은 기린, 이들을 각각 맞출 확률을 이야기합니다.\n",
        "<br><br>\n",
        "\n",
        "- Posterior (사후확률) : $P(B|A)$\n",
        "\n",
        "사후확률은 위의 Likelihood 부분에서 말한대로 데이터를 모두 보고나서 평가되는 요소로 이전의 사전확률에 대비해 새롭게 업데이트 된 확률입니다. 머신러닝에서는 모델을 사용, 테스트, 서비스 등을 할 때를 이 사후확률의 개념이 정확도와 비슷하게 사용됩니다. 정확도는 학습을 마친 모델이 고정되어있을 때, 처음보는 새로운 유저의 데이터가 입력되었다면 그 데이터를 맞출 확률을 사후확률에 해당합니다. 개념이 확실히 잡히시나요?\n",
        "<br><br>\n",
        "\n",
        "#### 3.5. 베이즈 정리의 유도\n",
        "(1) 우리는 이전 확률시간에 조건부 확률에 대해 배웠습니다. 베이즈정리는 조건부 확률과 동일합니다. 아래와 같은 식을 이용해 베이즈 정리의 공식을 유도할 수 있습니다.\n",
        "\n",
        "- B가 일어날 때, A가 일어날 사건에 대한 조건부 확률은 $P(A|B) = \\frac{P(A \\cap B)}{P(B)}$입니다.\n",
        "- A가 일어날 때, B가 일어날 사건에 대한 조건부 확률은 $P(B|A) = \\frac{P(B \\cap A)}{P(A)}$입니다.\n",
        "<br><br>\n",
        "\n",
        "(2) 두 식의 분모를 없게 하기 위해 분모를 곱한다면 아래와 같아집니다.\n",
        "\n",
        "- $P(A|B) \\cdot P(B) = P(A \\cap B)$\n",
        "- $P(B|A) \\cdot P(A) = P(B \\cap A)$\n",
        "<br><br>\n",
        "\n",
        "(3) 이 때, $P(A \\cap B)$와 $P(B \\cap A)$는 동일합니다. 따라서, 아래와 같은 식의 유도가 가능해집니다.\n",
        "\n",
        "- $P(A|B) \\cdot P(B) = P(B|A) \\cdot P(A)$\n",
        "<br><br>\n",
        "\n",
        "(4) 양 변을 $P(B)$로 나누면 베이즈 정리가 완성됩니다.\n",
        "- $P(A|B) = \\frac{P(B|A) \\cdot P(A)}{P(B)}$\n",
        "\n",
        "<br><br>"
      ]
    },
    {
      "cell_type": "markdown",
      "metadata": {
        "id": "luyUIYYKuz3A"
      },
      "source": [
        "### 4. Softmax와 Sigmoid 함수\n",
        "\n",
        "![](https://github.com/gusdnd852/bigdata-lecture/blob/master/_notebooks/img/Day2/117.png?raw=true)\n",
        "\n",
        "이제 앞으로 머신러닝 모델들을 쭉 배우면서 계속 마주칠 Softmax함수와 Sigmoid함수입니다. 이들은 위에서 설명한 베이즈 정리와 정확히 동일한 함수입니다. 아래는 제가 직접 작성한 유도과정인데 상당히 어렵기 때문에 **강의때는 다루지 않습니다.** 만약 어떻게 저러한 모양의 함수가 작동하는지에 대해 궁금하시면 읽어보시고, 그게 아니라면 생략하셔도 무방합니다. 만약 읽다가 이해가 안가시면 저에게 질문해주세요! <br><br>\n",
        "\n",
        "**그러나 반드시 알아두셔야할 것은 Softmax와 Sigmoid라는 함수가 있고 앞으로 매번 나올 것인데, 이 함수들은 베이즈 정리와 동일하며, 확률값을 나타낸다는 것입니다.**  <br><br>\n",
        "\n",
        "#### 4.1. Softmax 함수\n",
        "예를 들어 각각 강아지, 고양이라는 2개의 클래스가 있다고 해봅시다. 그렇다면, 우리가 원하는 것(Accuracy)는 모델이 주어졌을 때 강아지를 잘 맞출 확률 $P(Dog|Model)$, 모델이 주어졌을 때 고양이를 잘 맞출 확률입니다.$P(Cat|Model)$입니다. 강아지만 먼저 예시로 보겠습니다. 베이즈 정리로 풀어서 서술하면 아래와 같습니다.\n",
        "\n",
        "<br>\n",
        "$$P(Dog|Model) = \\frac{P(Model|Dog)P(Dog)}{P(Model)}$$\n",
        "<br>\n",
        "\n",
        "이때, $P(Model)$은 모델이 현재 맞추려는 모든 클래스를 의미합니다. 모든 데이터셋은 겹치지 않기 때문에 (고양이이면서 강아지 일수 없음) 교집합이 없고, 그냥 덧셈으로 풀어서 쓸 수 있게 됩니다. 이를 전확률의 법칙이라고 합니다. 따라서 아래와 같이 식을 변경할 수 있습니다.\n",
        "\n",
        "<br>\n",
        "$$P(Dog|Model) = \\frac{P(Model|Dog)P(Dog)}{P(Model|Dog)P(Dog) + P(Model|Cat)P(Cat)}$$\n",
        "<br>\n",
        "\n",
        "이 것을 함수로 만들고 싶은데, 확률은 0 ~ 1이기 때문에 음수 공역에서는 치역이 존재하지 않기 때문에 정의되지 않는 함수가 됩니다. 또한, Likelihood를 Log로 바꾸게 되면 독립일 때, 곱셈이 전부 덧셈으로 풀리게 되기 때문에 연산이 매우 편리합니다. 따라서 이들을 로그로 바꿔줍니다.\n",
        "\n",
        "<br>\n",
        "$$P(Dog|Model) = \\frac{\\log P(Model|Dog)P(Dog)}{\\log P(Model|Dog)P(Dog) + \\log P(Model|Cat)P(Cat)}$$\n",
        "<br>\n",
        "\n",
        "식이 너무 복잡하니 $\\log P(Model|Dog)P(Dog) = z_{Dog}$으로 치환하고 $\\log P(Model|Cat)P(Cat) = z_{Cat}$으로 치환하겠습니다. 그러면 아래와 같이 생각 할 수 있습니다.\n",
        "\n",
        "<br>\n",
        "$$\\log P(Model|Dog)P(Dog) = z_{Dog}$$\n",
        "$$P(Model|Dog)P(Dog) = e^{z_{Dog}}$$\n",
        "<br>\n",
        "$$\\log P(Model|Cat)P(Cat) = z_{Cat}$$\n",
        "$$P(Model|Cat)P(Cat) = e^{z_{Cat}}$$\n",
        "<br>\n",
        "\n",
        "기존의 확률값들을 자연상수 $e$의 지수꼴로 나타낼 수 있게 되었습니다. 따라서 이를 아래처럼 다시 정리합니다.\n",
        "\n",
        "<br>\n",
        "$$P(Dog|Model) = \\frac{e^{z_{Dog}}}{e^{z_{Dog}} + e^{z_{Cat}}}$$\n",
        "<br>\n",
        "\n",
        "이를 시그마로 묶어서 더 깔끔하게 표현할 수 있고, 마찬가지로 고양이에 관한 사후확률도 표현이 가능합니다.\n",
        "\n",
        "<br>\n",
        "$$P(Dog|Model) = \\frac{e^{z_{Dog}}}{\\sum_i e^{z_i}}$$\n",
        "<br>\n",
        "$$P(Cat|Model) = \\frac{e^{z_{Cat}}}{\\sum_i e^{z_i}}$$\n",
        "<br>\n",
        "\n",
        "이러한 **함수를 Softmax함수라고 부릅니다. Softmax함수는 보통 여러개의 클래스를 분류할 때 사용됩니다.**\n",
        "<br><br>\n",
        "\n",
        "#### 4.2. Sigmoid 함수\n",
        "\n",
        "만약 클래스가 현재 예시처럼 2개 뿐이라면 한번 더 식을 정리 할 수 있습니다. 분모와 분자를 모두 $e^{z_{Dog}}$로 나누면 아래처럼 됩니다.\n",
        "\n",
        "<br>\n",
        "$$P(Dog|Model) = \\frac{e^{z_{Dog}}}{e^{z_{Dog}} + e^{z_{Cat}}}$$\n",
        "<br>\n",
        "$$P(Dog|Model) = \\frac{\\frac{e^{z_{Dog}}}{e^{z_{Dog}}}}{\\frac{e^{z_{Dog}}}{e^{z_{Dog}}} + \\frac{e^{z_{Cat}}}{e^{z_{Dog}}}}$$\n",
        "<br>\n",
        "$$P(Dog|Model) = \\frac{1}{1 + \\frac{e^{z_{Cat}}}{e^{z_{Dog}}}}$$\n",
        "<br>\n",
        "$$P(Dog|Model) = \\frac{1}{1 + e^{z_{Cat} - z_{Dog}}}$$\n",
        "<br>\n",
        "<br>\n",
        "\n",
        "그리고 지수에 나온 뺄셈식($z_{Cat} - z_{Dog}$)을 풉니다.\n",
        "\n",
        "<br>\n",
        "$$z_{Cat} - z_{Dog} = \\log P(Model|Cat)P(Cat) - \\log P(Model|Dog)P(Dog) $$\n",
        "<br>\n",
        "$$z_{Cat} - z_{Dog} = \\log \\frac{P(Model|Cat)P(Cat)}{P(Model|Dog)P(Dog)}$$\n",
        "<br>\n",
        "$$z_{Cat} - z_{Dog} = - \\log \\frac{P(Model|Dog)P(Dog)}{P(Model|Cat)P(Cat)}$$\n",
        "<br>\n",
        "$$z_{Cat} - z_{Dog} = - \\log \\frac{\\frac{P(Model|Dog)P(Dog)}{P(Model)}}{\\frac{P(Model|Cat)P(Cat)}{P(Model)}}$$\n",
        "<br>\n",
        "$$z_{Cat} - z_{Dog} = - \\log \\frac{P(Dog|Model)}{P(Cat|Model)}$$\n",
        "<br>\n",
        "$$z_{Cat} - z_{Dog} = - logit$$\n",
        "<br>\n",
        "\n",
        "최종적으로 아래와 같은 식이 만들어집니다.\n",
        "\n",
        "<br>\n",
        "$$P(Dog|Model) =  \\frac{1}{1 + e^{z_{Cat} - z_{Dog}}} = \\frac{1}{1 + e^{-logit}}$$\n",
        "<br>\n",
        "\n",
        "이러한 **함수를 Sigmoid함수라고 부릅니다. Sigmoid함수는 보통 2개의 클래스를 분류할 때 사용됩니다.**"
      ]
    },
    {
      "cell_type": "markdown",
      "metadata": {
        "id": "JY7r9fcquz3A"
      },
      "source": [
        "<br><br>\n",
        "\n",
        "#### 4.3. 어렵나요? 그래도 기억해야할 것!\n",
        "위의 전개 내용은 궁금하신 분들만 확인하시고, 여러분들이 기억해야 할 내용은 아래와 같습니다.\n",
        "\n",
        "- Sigmoid나 Softmax는 베이즈 정리와 동일하며, 이들은 **확률**을 나타냅니다.\n",
        "- 두 함수는 사실 같은 함수이며, Softmax는 클래스가 여러개일 때, Sigmoid는 클래스가 2개일 때 씁니다.\n",
        "- 그래프의 개형은 아래처럼 그려집니다. (Sigmoid 기준)\n",
        "<br>"
      ]
    },
    {
      "cell_type": "code",
      "execution_count": null,
      "metadata": {
        "id": "qWSTYQSguz3A",
        "outputId": "474cc95a-bd0f-4bf2-8016-3d74ae744e22"
      },
      "outputs": [
        {
          "data": {
            "image/png": "[encoded data removed]",
            "text/plain": [
              "<Figure size 432x288 with 1 Axes>"
            ]
          },
          "metadata": {
            "needs_background": "light"
          },
          "output_type": "display_data"
        }
      ],
      "source": [
        "import numpy as np\n",
        "import matplotlib.pyplot as plt\n",
        "\n",
        "def sigmoid(z):\n",
        "    return 1 / (1 + np.exp(-z))\n",
        "\n",
        "x = np.arange(-5.0, 5.0, 0.1)\n",
        "y = sigmoid(x)\n",
        "\n",
        "plt.plot(x, y)\n",
        "plt.ylim(-0.1, 1.1)\n",
        "plt.show()\n",
        "plt.close()"
      ]
    },
    {
      "cell_type": "markdown",
      "metadata": {
        "id": "pWhnXoqIuz3C"
      },
      "source": [
        "<br><br>\n",
        "\n",
        "### 5. 확률 분포\n",
        "\n",
        "확률 분포란 이름 그대로, 어떤 값에서 데이터들이 분포하고 있는지를 나타내는데요. 조금 더 자세히 정의를 해보자면 확률분포는 **특정 값이 발생할 확률을 나타낸 함수**입니다. 말이 어려운데 아래 예제를 볼까요?\n",
        "<br><br>\n",
        "\n",
        "![](https://github.com/gusdnd852/bigdata-lecture/blob/master/_notebooks/img/Day2/115.png?raw=true)\n",
        "\n",
        "이 함수는 생쥐의 무게를 모델링한 함수(분포)입니다. 이 때, $x$축은 생쥐의 몸무게라고 합시다.\n",
        "<br><br>\n",
        "\n",
        "![](https://github.com/gusdnd852/bigdata-lecture/blob/master/_notebooks/img/Day2/116.png?raw=true)\n",
        "\n",
        "확률분포란 **특정한 값을 가질 확률을 나타내는 함수**입니다. 우리는 위의 그래프에서 생쥐의 몸무게가 32g에서 34g 사이일 확률은 빨간색 영역의 넓이와 같다고 '정의'할 수 있습니다. 이렇게 '**특정 값(32g ~ 34g)** 이 발생할 **확률**을'나타내는 것이 확률분포입니다. 어떻게 이러한 정의가 가능한 것일까요? 우리는 콜모고로프의 공리적 확률에 대해 배웠습니다. 최소 0, 최대 1이며, 배반사건들의 확률 합이 합사건의 확률과 같기만 하다면 위와 같이 확률을 정의할 수 있습니다. 이렇게 **특정 값**에서 사건이 발생할 확률을 모델링 한 것을 우리는 **확률 분포**라고 합니다. 즉, **확률 분포는 특정 값에서의 확률을 모델링한 함수**와 같습니다. <br><br>\n",
        "\n",
        "\n",
        "세상에는 정말 다양한 확률분포 함수가 존재합니다. 그러나 머신러닝에서는 그런 분포를 다 사용하지는 않습니다. 때문에 이 강의에서는 가장 기본적이고 필수적인 분포함수만 간단하게 짚고 넘어갑니다.\n",
        "<br><br>\n",
        "\n",
        "#### 5.1. 이산확률분포 vs 연속확률분포\n",
        "![](https://img1.daumcdn.net/thumb/R800x0/?scode=mtistory2&fname=https%3A%2F%2Ft1.daumcdn.net%2Fcfile%2Ftistory%2F99E192365D90B33B25)\n",
        "\n",
        "1. **이산확률분포**는 관측치가 이산적일때 사용하는 확률분포입니다. **이산적이라는 것은 연속과 반대의 개념인데, 정해진 값만 나올 수 있다고 생각하시면 됩니다.** 쉽게 생각해서 디지털을 생각하시면 됩니다. 가령 주사위를 던질 때 1, 2, 3, 4, 5, 6의 값만 가능합니다. 주사위를 던져서 2.245가 나오거나 3.77이 나올 확률은 0입니다. 왜냐하면 주사위는 반드시 6개의 면만 나와야하기 때문입니다. 마찬가지로 동전을 던진다고 할 때도, 앞면(0)과 뒷면(1)만 나와야지 갑자기 0.45가 나온다거나 할 수 없습니다. 이런 사건들의 확률을 모델링할 때 사용하는 분포가 이산확률분포입니다.\n",
        "<br><br>\n",
        "\n",
        "2. **연속확률분포**는 관측치가 연속적일 때 사용하는 확률분포입니다. **연속적이라는 것은 이산과 반대 개념인데, 어떤 값이든 나올 수 있다고 생각하시면 됩니다.** 쉽게 생각해서 아날로그를 생각하시면 됩니다. 가령 생쥐의 몸무게는 32g일수도 32.1g일수도 32.05g일수도 36g일수도 있습니다. 이렇게 관측치가 연속적인 사건들의 확률을 모델링할 때 사용하는 분포가 연속확률분포입니다.\n",
        "<br><br>\n",
        "\n",
        "#### 5.2. 균등확률분포(Uniform) vs 정규확률분포(Normal = Gaussian)\n",
        "![](https://t1.daumcdn.net/cfile/tistory/9978FB455DB538731B)\n",
        "\n",
        "1. **균등확률분포**는 **모든 관측치가 동일한 확률로 발생할 때** 사용하는 확률분포입니다. 예를 들어 주사위는 대표적인 균등분포 문제입니다. 우리가 주사위를 던질때, 6개의 면이 나올 확률이 모두 같습니다. 이런 사건들의 확률을 모델링할 때 사용하는 분포가 균등확률분포입니다. 이산/연속 확률분포와 균등/정규 확률분포는 서로 다른 개념이기 때문에 이산균등분포, 연속균등분포 등의 균등분포가 존재할 수 있습니다. 주사위는 당연히 이산균등분포겠죠?\n",
        "<br><br>\n",
        "\n",
        "2. **정규확률분포**는 **관측치들이 동일하지 않은 확률로 발생할 때** 사용하는 확률분포입니다. 가령 생쥐의 몸무게의 평균이 32g이라면 32g인 생쥐들은 비교적 많을 것이고 40g이나 28g인 생쥐들은 비교적 적을 것입니다. 이런 사건들의 확률을 모델링 할 때 사용하는 분포가 정규확률분포입니다. 이산/연속 확률분포와 균등/정규 확률분포는 서로 다른 개념이기 때문에 이산정규분포, 연속정규분포 등의 정규분포가 존재할 수 있습니다. 생쥐의 몸무게는 당연히 연속정규분포겠죠?\n",
        "<br><br>\n",
        "\n",
        "#### 5.3 균등분포와 정규분포로 랜덤텐서 생성하기\n",
        "\n",
        "numpy에는 rand와 randn함수를 지원합니다. 우리는 이전에 np.random.rand만 배웠지만 randn함수도 존재합니다. 두 함수의 차이는 rand함수는 랜덤값을 균등분포로 생성하고, randn함수는 정규분포로 랜덤값을 생성합니다. 아래 예제를 봅시다."
      ]
    },
    {
      "cell_type": "code",
      "execution_count": null,
      "metadata": {
        "id": "ZUqfKbquuz3C",
        "outputId": "043e84bb-3a16-4df6-ed7c-69fdcb6c789f"
      },
      "outputs": [
        {
          "data": {
            "image/png": "[encoded data removed]",
            "text/plain": [
              "<Figure size 432x288 with 1 Axes>"
            ]
          },
          "metadata": {
            "needs_background": "light"
          },
          "output_type": "display_data"
        }
      ],
      "source": [
        "import numpy as np\n",
        "import matplotlib.pyplot as plt\n",
        "\n",
        "normal_dist = np.random.randn(10000)\n",
        "# 정규분포로 랜덤값 생성하기 (평균 0, 표준편차 1)\n",
        "\n",
        "plt.hist(normal_dist, bins=100, density=True, alpha=0.7, histtype='stepfilled')\n",
        "plt.show()\n",
        "plt.close()"
      ]
    },
    {
      "cell_type": "code",
      "execution_count": null,
      "metadata": {
        "id": "ZlD_UhZyuz3C",
        "outputId": "ac41c00e-7491-49cd-f2d9-6b5c6f77e576"
      },
      "outputs": [
        {
          "data": {
            "image/png": "[encoded data removed]",
            "text/plain": [
              "<Figure size 432x288 with 1 Axes>"
            ]
          },
          "metadata": {
            "needs_background": "light"
          },
          "output_type": "display_data"
        }
      ],
      "source": [
        "import numpy as np\n",
        "import matplotlib.pyplot as plt\n",
        "\n",
        "normal_dist = np.random.rand(10000)\n",
        "# 균등분포로 랜덤값 생성하기\n",
        "\n",
        "plt.hist(normal_dist, bins=100, density=True, alpha=0.7, histtype='stepfilled')\n",
        "plt.show()\n",
        "plt.close()"
      ]
    },
    {
      "cell_type": "markdown",
      "metadata": {
        "id": "MW_40wyEuz3C"
      },
      "source": [
        "<br>\n",
        "\n",
        "#### 5.4 정규분포는 평균과 표준편차에 의해 그래프가 결정된다.\n",
        "\n",
        "정규분포함수는 평균과 표준편차에 의해 그래프가 결정됩니다. 그런데 아직 평균과 표준편차가 무엇인지 배우지 않았습니다. 아래에서 이에 대해 자세히 알아봅시다."
      ]
    },
    {
      "cell_type": "code",
      "execution_count": null,
      "metadata": {
        "id": "tkk9WzlWuz3C",
        "outputId": "01674fa5-5a4c-4339-b43d-7b5a22bb66ad"
      },
      "outputs": [
        {
          "data": {
            "image/png": "[encoded data removed]",
            "text/plain": [
              "<Figure size 432x288 with 1 Axes>"
            ]
          },
          "metadata": {
            "needs_background": "light"
          },
          "output_type": "display_data"
        }
      ],
      "source": [
        "import numpy as np\n",
        "import matplotlib.pyplot as plt\n",
        "\n",
        "normal_dist_1 = np.random.randn(10000)\n",
        "# 정규분포로 랜덤값 생성하기 (평균 0, 표준편차 1.0)\n",
        "\n",
        "normal_dist_2 = 3.0 * np.random.randn(10000) + 1.5\n",
        "# 정규분포로 랜덤값 생성하기 (평균 1.5, 표준편차 3.0)\n",
        "\n",
        "plt.hist(normal_dist_1, bins=100, density=True, alpha=0.7, histtype='stepfilled')\n",
        "plt.hist(normal_dist_2, bins=100, density=True, alpha=0.7, histtype='stepfilled')\n",
        "plt.show()\n",
        "plt.close()"
      ]
    },
    {
      "cell_type": "markdown",
      "metadata": {
        "id": "udvUFPRCuz3C"
      },
      "source": [
        "<br>\n",
        "\n",
        "### 6. 다양한 통계적 개념들\n",
        "\n",
        "여기에서는 평균, 기댓값, 분산, 표준편차 등 다양한 통계적 개념들에 대해 배웁니다.\n",
        "<br><br>\n",
        "\n",
        "#### 6.1. 평균 (Mean)\n",
        "\n",
        "<br>\n",
        "$$mean = \\frac{1}{N} \\sum_{i} x_i$$\n",
        "<br>\n",
        "\n",
        "평균은 어떤 자료가 n개 있을 때, 모든 자료의 값으로 더하고 개수인 n개로 나누면 그 것을 평균이라고 합니다. 평균을 일반적으로 해당 분포의 대표값으로 사용되는 값입니다. numpy에서는 mean()함수로 쉽게 구할 수 있습니다."
      ]
    },
    {
      "cell_type": "code",
      "execution_count": null,
      "metadata": {
        "id": "0wsmGG7Xuz3D",
        "outputId": "c2c215d2-43c2-4316-cb86-8dfa74bffda4"
      },
      "outputs": [
        {
          "data": {
            "text/plain": [
              "3.0"
            ]
          },
          "execution_count": 10,
          "metadata": {},
          "output_type": "execute_result"
        }
      ],
      "source": [
        "import numpy as np\n",
        "\n",
        "vec_a = np.array([1, 2, 3, 4, 5])\n",
        "vec_a.mean()"
      ]
    },
    {
      "cell_type": "markdown",
      "metadata": {
        "id": "EmiDcZCkuz3D"
      },
      "source": [
        "<br>\n",
        "\n",
        "#### 6.2. 기댓값 (Expectation Value)\n",
        "\n",
        "<br>\n",
        "$$E[x] = \\sum_{i} x_i \\cdot P(x_i)$$\n",
        "<br>\n",
        "\n",
        "기댓값은 그 사건이 일어날 확률과 값을 곱한 뒤 전부 더한 것입니다. 여기에서 확률은 위에서 언급한 **확률분포**에 기인합니다. 즉, 위에서 언급한 그냥 **평균은 확률분포를 고려하지 않아서 모든 데이터를 균등분포라고 생각하고 계산**하지만 기대값은 확률분포를 고려한 평균이라고 보시면 됩니다. <br><br>\n",
        "\n",
        "예를들어 10개의 데이터가 각각 발생할 확률이 다른데, 이들을 모두 더해서 평균을 내면 각 데이터의 값에 전부 같은 값인 $\\frac{1}{10}$을 곱해서 $mean = \\frac{1}{10} \\sum_{i} x_i = \\sum_{i} x_i \\cdot \\frac{1}{10}$처럼 계산합니다. 이는 $P(x_i)$를 모두 동일한 확률인 $\\frac{1}{10}$으로 생각해서 계산한 것이라고 봐도 무방합니다. 즉, 평균의 경우 확률분포를 고려하지 않고 무조건 균등분포로 생각해서 계산합니다. <br><br>\n",
        "\n",
        "그러나 기대값의 경우는 $\\frac{1}{N}$을 곱하는 것이 아니라 그 데이터가 발생할 확률인 $P(x_i)$을 곱해주기 때문에, 그 분포의 대표값을 설정할 때, 평균에 비해서더 적합한 대표값을 설정할 수 있습니다. (정규분포등의 분포 특성을 고려할 수 있음)"
      ]
    },
    {
      "cell_type": "markdown",
      "metadata": {
        "id": "JwNK4hqcuz3D"
      },
      "source": [
        "<br>\n",
        "\n",
        "#### 6.3. 분산 (Variance)\n",
        "\n",
        "<br>\n",
        "$$deviation = x_i - mean$$\n",
        "<br>\n",
        "\n",
        "분산 이전에 편차(Deviation)에 대해서 생각해봅시다. **편차는 전체 데이터가 평균과 얼마나 차이가 나는지**를 계산한 것으로, 각각 데이터의 값들에서 평균(기대값)을 뺀 값입니다. 만약 [1, 2, 3, 4, 5]라는 배열이 있으면 평균은 3입니다. 편차는 값에서 평균(기대값)을 뺀 것이므로 편차는 [3-1, 3-2, 3-3, 3-4, 3-5]이고, 계산하면 [-2, -1, 0, 1, 2]가 됩니다.\n",
        "<br><br>\n",
        "\n",
        "$$Variance = \\frac{1}{N} \\sum_{i} (x_i - mean)^2$$\n",
        "<br>\n",
        "\n",
        "편차(deviation)는 실제 데이터가 평균과 얼마나 차이가 나는지 평가하기 위한 척도인데, 빼다보니 음수가 포함되어서 편차를 모두 더하니 $deviation = -2 -1 +0 + 1 + 2$로 $deviation = 0$이 되어버렸습니다. 그러나 실제로 편차가 0이려면 데이터는 [3, 3, 3, 3, 3]과 같아야합니다. 따라서 **음수값을 없애주기 위해 편차값들에 모두 제곱을 해서 더해준 값이 분산**입니다.<br><br>\n",
        "\n",
        "따라서 $Variance = \\frac{1}{5} \\cdot ((-2)^2 + (-1)^2 + 0^2 + 1^2 + 2^2) = \\frac{1}{5} \\cdot (4 + 1 + 0 + 1 + 4)$이고, 결과적으로 $Variance = \\frac{1}{5} \\cdot 10 = 2$가 되어 어느정도 편차를 잘 표현하고 있습니다. 즉, 정리하자면 분산은 데이터가 평균과 얼마나 차이나는지에 대한 척도입니다. numpy에서는 var()를 이용해 계산할 수 있습니다.\n"
      ]
    },
    {
      "cell_type": "code",
      "execution_count": null,
      "metadata": {
        "id": "Su3yyfljuz3D",
        "outputId": "1500b62a-c705-4b5d-c2a7-e8a7a5902f8c"
      },
      "outputs": [
        {
          "data": {
            "text/plain": [
              "2.0"
            ]
          },
          "execution_count": 11,
          "metadata": {},
          "output_type": "execute_result"
        }
      ],
      "source": [
        "import numpy as np\n",
        "\n",
        "vec_a = np.array([1, 2, 3, 4, 5])\n",
        "vec_a.var()"
      ]
    },
    {
      "cell_type": "markdown",
      "metadata": {
        "id": "7KhQcybpuz3D"
      },
      "source": [
        "<br>\n",
        "\n",
        "#### 6.4. 표준편차\n",
        "\n",
        "\n",
        "<br>\n",
        "$$Standard Deviation = \\sqrt{\\frac{1}{N} \\sum_{i} (x_i - mean)^2}$$\n",
        "<br>\n",
        "\n",
        "분산이 어느정도 편차를 잘 표현하긴 하지만 원래 값에 제곱을 해버린지라 실제적인 편차값과는 거리가 있습니다. 가령, 위의 예시에 데이터들의 편차는 2, 1, 0, 1, 2로 실제로 평균내면 $\\frac{6}{5} = 1.2$정도 됩니다. 그러나 제곱을 해버려서 값이 $2$로 커졌습니다. 따라서 **표준편차는 분산값에 다시 루트를 씌워서 제곱으로 인한 값의 차이를 줄입니다.** 따라서 $\\sqrt{Variance} = \\sqrt{2} = 1.414$로 이전의 2보다는 조금더 실제 편차의 평균인 1.2에 가까워졌음을 알 수 있습니다. numpy에서는 std()함수를 사용해서 계산할 수 있습니다."
      ]
    },
    {
      "cell_type": "code",
      "execution_count": null,
      "metadata": {
        "id": "Ns7ajO5Duz3D",
        "outputId": "72cc7b2a-0d54-40b7-ce1b-e3d28a917a84"
      },
      "outputs": [
        {
          "data": {
            "text/plain": [
              "1.4142135623730951"
            ]
          },
          "execution_count": 12,
          "metadata": {},
          "output_type": "execute_result"
        }
      ],
      "source": [
        "import numpy as np\n",
        "\n",
        "vec_a = np.array([1, 2, 3, 4, 5])\n",
        "vec_a.std()"
      ]
    },
    {
      "cell_type": "markdown",
      "metadata": {
        "id": "YJ6Y9wQJuz3D"
      },
      "source": [
        "<br>\n",
        "\n",
        "#### 6.5. 평균과 표준편차에 의한 정규분포의 변화\n",
        "\n",
        "![](https://www.mathfactory.net/wp-content/uploads/%EC%88%98%ED%95%99-%EA%B3%B5%EC%8B%9D-%EC%A0%95%EA%B7%9C%EB%B6%84%ED%8F%AC-02.png)\n",
        "\n",
        "정규분포 그래프는 평균과 표준편차에 의해 결정됩니다. 평균이 움직이면 그래프 자체가 옆으로 움직이고, 표준편차가 커지면 그래프가 보다 완만해지며(평균과 차이 큼), 표준편차가 작아지면 보다 뾰족해집니다. (평균과 차이 작음) 이를 numpy를 통해 확인할 수 있습니다."
      ]
    },
    {
      "cell_type": "code",
      "execution_count": null,
      "metadata": {
        "id": "u3lxs6vcuz3D",
        "outputId": "117a170c-3eae-472a-e4a2-ac1dca8ba2ed"
      },
      "outputs": [
        {
          "data": {
            "image/png": "[encoded data removed]",
            "text/plain": [
              "<Figure size 432x288 with 1 Axes>"
            ]
          },
          "metadata": {
            "needs_background": "light"
          },
          "output_type": "display_data"
        }
      ],
      "source": [
        "import numpy as np\n",
        "import matplotlib.pyplot as plt\n",
        "\n",
        "normal_dist_1 = 1 * np.random.randn(10000)\n",
        "# 정규분포로 랜덤값 생성하기 (평균 0, 표준편차 1)\n",
        "\n",
        "normal_dist_2 = 2 * np.random.randn(10000)\n",
        "# 정규분포로 랜덤값 생성하기 (평균 0, 표준편차 2)\n",
        "\n",
        "normal_dist_3 = 3 * np.random.randn(10000)\n",
        "# 정규분포로 랜덤값 생성하기 (평균 0, 표준편차 3)\n",
        "\n",
        "plt.hist(normal_dist_1, bins=100, label='std = 1.0' ,density=True, alpha=0.7, histtype='stepfilled')\n",
        "plt.hist(normal_dist_2, bins=100, label='std = 2.0', density=True, alpha=0.7, histtype='stepfilled')\n",
        "plt.hist(normal_dist_3, bins=100, label='std = 3.0',density=True, alpha=0.7, histtype='stepfilled')\n",
        "plt.title('std Difference')\n",
        "plt.legend()\n",
        "plt.show()\n",
        "plt.close()"
      ]
    },
    {
      "cell_type": "code",
      "execution_count": null,
      "metadata": {
        "id": "3KdTtR1juz3D",
        "outputId": "deb4ecb9-6ae0-4035-a01e-d27a7184dd30"
      },
      "outputs": [
        {
          "data": {
            "image/png": "[encoded data removed]",
            "text/plain": [
              "<Figure size 432x288 with 1 Axes>"
            ]
          },
          "metadata": {
            "needs_background": "light"
          },
          "output_type": "display_data"
        }
      ],
      "source": [
        "import numpy as np\n",
        "import matplotlib.pyplot as plt\n",
        "\n",
        "normal_dist_1 = np.random.randn(10000)\n",
        "# 정규분포로 랜덤값 생성하기 (평균 0, 표준편차 1.0)\n",
        "\n",
        "normal_dist_2 = np.random.randn(10000) + 1\n",
        "# 정규분포로 랜덤값 생성하기 (평균 0, 표준편차 1.0)\n",
        "\n",
        "normal_dist_3 = np.random.randn(10000) + 2\n",
        "# 정규분포로 랜덤값 생성하기 (평균 0, 표준편차 1.0)\n",
        "\n",
        "plt.hist(normal_dist_1, bins=100, label='mean = 0.0' ,density=True, alpha=0.7, histtype='stepfilled')\n",
        "plt.hist(normal_dist_2, bins=100, label='mean = 1.0', density=True, alpha=0.7, histtype='stepfilled')\n",
        "plt.hist(normal_dist_3, bins=100, label='mean = 2.0',density=True, alpha=0.7, histtype='stepfilled')\n",
        "plt.title('mean Difference')\n",
        "plt.legend()\n",
        "plt.show()\n",
        "plt.close()"
      ]
    },
    {
      "cell_type": "markdown",
      "metadata": {
        "id": "X4i2y17Tuz3D"
      },
      "source": [
        "<br>\n",
        "\n",
        "#### 6.6. 표준화와 정규화\n",
        "\n",
        "표준화와 정규화는 머신러닝에서 빼놓을 수 없는 매우 중요한 과정입니다. 딥러닝 쪽에서 배치 정규화를 언급하면서 한번 더 자세하게 설명하겠지만, 통계파트에서도 설명합니다. <br><br>\n",
        "\n",
        "1. 표준화 (Standardization)\n",
        "\n",
        "<br>\n",
        "$$z = \\frac{x - mean}{std}$$\n",
        "<br>\n",
        "\n",
        "표준화 데이터의 분포를 **평균 0으로, 분산 1에 가깝게 만듭니다.** 표준화가 필요한 이유는 다음과 같습니다. 가령, 집의 크기와 가격을 모델링한 아래와 같은 데이터가 있다고 가정해봅시다.\n"
      ]
    },
    {
      "cell_type": "code",
      "execution_count": null,
      "metadata": {
        "id": "rJ-abCR3uz3D",
        "outputId": "f46a0512-62e4-4752-826c-5ed45e7f7823"
      },
      "outputs": [
        {
          "data": {
            "text/html": [
              "<div>\n",
              "<style scoped>\n",
              "    .dataframe tbody tr th:only-of-type {\n",
              "        vertical-align: middle;\n",
              "    }\n",
              "\n",
              "    .dataframe tbody tr th {\n",
              "        vertical-align: top;\n",
              "    }\n",
              "\n",
              "    .dataframe thead th {\n",
              "        text-align: right;\n",
              "    }\n",
              "</style>\n",
              "<table border=\"1\" class=\"dataframe\">\n",
              "  <thead>\n",
              "    <tr style=\"text-align: right;\">\n",
              "      <th></th>\n",
              "      <th>넓이(m^2)</th>\n",
              "      <th>가격(원)</th>\n",
              "    </tr>\n",
              "  </thead>\n",
              "  <tbody>\n",
              "    <tr>\n",
              "      <th>0</th>\n",
              "      <td>35</td>\n",
              "      <td>10000000</td>\n",
              "    </tr>\n",
              "    <tr>\n",
              "      <th>1</th>\n",
              "      <td>40</td>\n",
              "      <td>12000000</td>\n",
              "    </tr>\n",
              "    <tr>\n",
              "      <th>2</th>\n",
              "      <td>60</td>\n",
              "      <td>20000000</td>\n",
              "    </tr>\n",
              "    <tr>\n",
              "      <th>3</th>\n",
              "      <td>60</td>\n",
              "      <td>20000000</td>\n",
              "    </tr>\n",
              "    <tr>\n",
              "      <th>4</th>\n",
              "      <td>62</td>\n",
              "      <td>24000000</td>\n",
              "    </tr>\n",
              "    <tr>\n",
              "      <th>5</th>\n",
              "      <td>60</td>\n",
              "      <td>22000000</td>\n",
              "    </tr>\n",
              "    <tr>\n",
              "      <th>6</th>\n",
              "      <td>70</td>\n",
              "      <td>28000000</td>\n",
              "    </tr>\n",
              "    <tr>\n",
              "      <th>7</th>\n",
              "      <td>80</td>\n",
              "      <td>32000000</td>\n",
              "    </tr>\n",
              "    <tr>\n",
              "      <th>8</th>\n",
              "      <td>48</td>\n",
              "      <td>15000000</td>\n",
              "    </tr>\n",
              "    <tr>\n",
              "      <th>9</th>\n",
              "      <td>60</td>\n",
              "      <td>23000000</td>\n",
              "    </tr>\n",
              "  </tbody>\n",
              "</table>\n",
              "</div>"
            ],
            "text/plain": [
              "   넓이(m^2)     가격(원)\n",
              "0       35  10000000\n",
              "1       40  12000000\n",
              "2       60  20000000\n",
              "3       60  20000000\n",
              "4       62  24000000\n",
              "5       60  22000000\n",
              "6       70  28000000\n",
              "7       80  32000000\n",
              "8       48  15000000\n",
              "9       60  23000000"
            ]
          },
          "execution_count": 41,
          "metadata": {},
          "output_type": "execute_result"
        }
      ],
      "source": [
        "#collapse-hide\n",
        "\n",
        "import pandas as pd\n",
        "\n",
        "housing_price_df = pd.DataFrame(\n",
        "    columns=['넓이(m^2)', '가격(원)'],\n",
        "\n",
        "    data=[[35, 10000000],\n",
        "          [40, 12000000],\n",
        "          [60, 20000000],\n",
        "          [60, 20000000],\n",
        "          [62, 24000000],\n",
        "          [60, 22000000],\n",
        "          [70, 28000000],\n",
        "          [80, 32000000],\n",
        "          [48, 15000000],\n",
        "          [60, 23000000]]\n",
        ")\n",
        "\n",
        "housing_price_df.head(10)"
      ]
    },
    {
      "cell_type": "markdown",
      "metadata": {
        "id": "f7U8VETzuz3E"
      },
      "source": [
        "이런 데이터는 컬럼별로 데이터의 크기가 너무 심하게 언밸런스 합니다. 이런 경우 학습시 한개의 컬럼에만 너무 큰 영향을 받을 수 있기 때문에, 표준화 작업을 진행해주는 것이 바람직합니다. 또한, 서로 다른 두가지 데이터셋을 비교할 때, 단위를 맞추는 용도로도 사용할 수 있으며, 조금더 쉽게 확률값을 구해낼 수 있습니다."
      ]
    },
    {
      "cell_type": "code",
      "execution_count": null,
      "metadata": {
        "id": "V4bSbw_yuz3E",
        "outputId": "8683e0dc-01b8-4a83-877a-971024b72199"
      },
      "outputs": [
        {
          "data": {
            "text/html": [
              "<div>\n",
              "<style scoped>\n",
              "    .dataframe tbody tr th:only-of-type {\n",
              "        vertical-align: middle;\n",
              "    }\n",
              "\n",
              "    .dataframe tbody tr th {\n",
              "        vertical-align: top;\n",
              "    }\n",
              "\n",
              "    .dataframe thead th {\n",
              "        text-align: right;\n",
              "    }\n",
              "</style>\n",
              "<table border=\"1\" class=\"dataframe\">\n",
              "  <thead>\n",
              "    <tr style=\"text-align: right;\">\n",
              "      <th></th>\n",
              "      <th>변환된 넓이(m^2)</th>\n",
              "      <th>변환된 가격(원)</th>\n",
              "    </tr>\n",
              "  </thead>\n",
              "  <tbody>\n",
              "    <tr>\n",
              "      <th>0</th>\n",
              "      <td>-0.913224</td>\n",
              "      <td>-0.026601</td>\n",
              "    </tr>\n",
              "    <tr>\n",
              "      <th>1</th>\n",
              "      <td>-0.913224</td>\n",
              "      <td>0.150724</td>\n",
              "    </tr>\n",
              "    <tr>\n",
              "      <th>2</th>\n",
              "      <td>-0.913222</td>\n",
              "      <td>0.860025</td>\n",
              "    </tr>\n",
              "    <tr>\n",
              "      <th>3</th>\n",
              "      <td>-0.913222</td>\n",
              "      <td>0.860025</td>\n",
              "    </tr>\n",
              "    <tr>\n",
              "      <th>4</th>\n",
              "      <td>-0.913222</td>\n",
              "      <td>1.214675</td>\n",
              "    </tr>\n",
              "    <tr>\n",
              "      <th>5</th>\n",
              "      <td>-0.913222</td>\n",
              "      <td>1.037350</td>\n",
              "    </tr>\n",
              "    <tr>\n",
              "      <th>6</th>\n",
              "      <td>-0.913221</td>\n",
              "      <td>1.569325</td>\n",
              "    </tr>\n",
              "    <tr>\n",
              "      <th>7</th>\n",
              "      <td>-0.913220</td>\n",
              "      <td>1.923976</td>\n",
              "    </tr>\n",
              "    <tr>\n",
              "      <th>8</th>\n",
              "      <td>-0.913223</td>\n",
              "      <td>0.416712</td>\n",
              "    </tr>\n",
              "    <tr>\n",
              "      <th>9</th>\n",
              "      <td>-0.913222</td>\n",
              "      <td>1.126012</td>\n",
              "    </tr>\n",
              "  </tbody>\n",
              "</table>\n",
              "</div>"
            ],
            "text/plain": [
              "   변환된 넓이(m^2)  변환된 가격(원)\n",
              "0    -0.913224  -0.026601\n",
              "1    -0.913224   0.150724\n",
              "2    -0.913222   0.860025\n",
              "3    -0.913222   0.860025\n",
              "4    -0.913222   1.214675\n",
              "5    -0.913222   1.037350\n",
              "6    -0.913221   1.569325\n",
              "7    -0.913220   1.923976\n",
              "8    -0.913223   0.416712\n",
              "9    -0.913222   1.126012"
            ]
          },
          "execution_count": 44,
          "metadata": {},
          "output_type": "execute_result"
        }
      ],
      "source": [
        "housing_price_np = housing_price_df.values\n",
        "\n",
        "mean = housing_price_np.mean()\n",
        "std = housing_price_np.std()\n",
        "\n",
        "standardization = (housing_price_np - mean) / std\n",
        "standardization_df = pd.DataFrame(data=standardization,\n",
        "                                  columns=['변환된 넓이(m^2)', '변환된 가격(원)'])\n",
        "standardization_df"
      ]
    },
    {
      "cell_type": "code",
      "execution_count": null,
      "metadata": {
        "id": "5cHctvW3uz3E",
        "outputId": "9b7a3155-c8a4-4671-bfab-c0a5466d69b6"
      },
      "outputs": [
        {
          "name": "stdout",
          "output_type": "stream",
          "text": [
            "변환 전 평균 : 10300028.75, 표준편차 : 11278714.809361352\n",
            "변환 후 평균 : -2.2204460492503132e-17, 표준편차 : 1.0\n"
          ]
        }
      ],
      "source": [
        "std_mean = standardization.mean()\n",
        "std_std = standardization.std()\n",
        "\n",
        "print('변환 전 평균 : {}, 표준편차 : {}'.format(mean, std))\n",
        "print('변환 후 평균 : {}, 표준편차 : {}'.format(std_mean, std_std))"
      ]
    },
    {
      "cell_type": "markdown",
      "metadata": {
        "id": "z6q3aPtNuz3E"
      },
      "source": [
        "<br>\n",
        "\n",
        "2. 정규화 (Min Max Scaling)\n",
        "\n",
        "정규화 기법은 매우 다양합니다. 그 중에서 Min Max Scaling 기법을 소개드리고 다른 기법들은 키워드로 제공해드리겠습니다. Min Max Scaling 기법은 데이터의 범위를 반드시 0 ~ 1로 만듭니다. <br><br>\n",
        "\n",
        "<br>\n",
        "$$minmax = \\frac{x - x_{min}}{x_{max} - x_{min}}$$\n",
        "<br>\n",
        "\n",
        "그러나 위처럼 데이터의 크기가 언밸런스 한 경우에 한쪽은 값이 0.9와 같이 크지만 한쪽은 값이 0.00001과 같이 작을 수 있습니다. 정규화를 하면 좋은 점은 눈으로 데이터를 확인하기 쉽고, 값을 마치 확률처럼 생각할 수 있다는 점이 장점입니다."
      ]
    },
    {
      "cell_type": "code",
      "execution_count": null,
      "metadata": {
        "id": "swIDW-vuuz3E",
        "outputId": "05cd413f-b662-4d88-8b33-ffc38c546fef"
      },
      "outputs": [
        {
          "data": {
            "text/html": [
              "<div>\n",
              "<style scoped>\n",
              "    .dataframe tbody tr th:only-of-type {\n",
              "        vertical-align: middle;\n",
              "    }\n",
              "\n",
              "    .dataframe tbody tr th {\n",
              "        vertical-align: top;\n",
              "    }\n",
              "\n",
              "    .dataframe thead th {\n",
              "        text-align: right;\n",
              "    }\n",
              "</style>\n",
              "<table border=\"1\" class=\"dataframe\">\n",
              "  <thead>\n",
              "    <tr style=\"text-align: right;\">\n",
              "      <th></th>\n",
              "      <th>변환된 넓이(m^2)</th>\n",
              "      <th>변환된 가격(원)</th>\n",
              "    </tr>\n",
              "  </thead>\n",
              "  <tbody>\n",
              "    <tr>\n",
              "      <th>0</th>\n",
              "      <td>0.000000e+00</td>\n",
              "      <td>0.312499</td>\n",
              "    </tr>\n",
              "    <tr>\n",
              "      <th>1</th>\n",
              "      <td>1.562502e-07</td>\n",
              "      <td>0.374999</td>\n",
              "    </tr>\n",
              "    <tr>\n",
              "      <th>2</th>\n",
              "      <td>7.812509e-07</td>\n",
              "      <td>0.625000</td>\n",
              "    </tr>\n",
              "    <tr>\n",
              "      <th>3</th>\n",
              "      <td>7.812509e-07</td>\n",
              "      <td>0.625000</td>\n",
              "    </tr>\n",
              "    <tr>\n",
              "      <th>4</th>\n",
              "      <td>8.437509e-07</td>\n",
              "      <td>0.750000</td>\n",
              "    </tr>\n",
              "    <tr>\n",
              "      <th>5</th>\n",
              "      <td>7.812509e-07</td>\n",
              "      <td>0.687500</td>\n",
              "    </tr>\n",
              "    <tr>\n",
              "      <th>6</th>\n",
              "      <td>1.093751e-06</td>\n",
              "      <td>0.875000</td>\n",
              "    </tr>\n",
              "    <tr>\n",
              "      <th>7</th>\n",
              "      <td>1.406252e-06</td>\n",
              "      <td>1.000000</td>\n",
              "    </tr>\n",
              "    <tr>\n",
              "      <th>8</th>\n",
              "      <td>4.062504e-07</td>\n",
              "      <td>0.468749</td>\n",
              "    </tr>\n",
              "    <tr>\n",
              "      <th>9</th>\n",
              "      <td>7.812509e-07</td>\n",
              "      <td>0.718750</td>\n",
              "    </tr>\n",
              "  </tbody>\n",
              "</table>\n",
              "</div>"
            ],
            "text/plain": [
              "    변환된 넓이(m^2)  변환된 가격(원)\n",
              "0  0.000000e+00   0.312499\n",
              "1  1.562502e-07   0.374999\n",
              "2  7.812509e-07   0.625000\n",
              "3  7.812509e-07   0.625000\n",
              "4  8.437509e-07   0.750000\n",
              "5  7.812509e-07   0.687500\n",
              "6  1.093751e-06   0.875000\n",
              "7  1.406252e-06   1.000000\n",
              "8  4.062504e-07   0.468749\n",
              "9  7.812509e-07   0.718750"
            ]
          },
          "execution_count": 51,
          "metadata": {},
          "output_type": "execute_result"
        }
      ],
      "source": [
        "housing_price_np = housing_price_df.values\n",
        "\n",
        "min = housing_price_np.min()\n",
        "max = housing_price_np.max()\n",
        "\n",
        "minmax = (housing_price_np - min)/(max - min)\n",
        "minmax_df = pd.DataFrame(data=minmax,\n",
        "                        columns=['변환된 넓이(m^2)', '변환된 가격(원)'])\n",
        "minmax_df"
      ]
    },
    {
      "cell_type": "markdown",
      "metadata": {
        "id": "JMrr3K8_uz3E"
      },
      "source": [
        "위에서 말한 것과 동일하게 범위가 0과 1사이로 좁혀지긴 했지만 두 데이터 간의 크기 차이가 분명하게 납니다. 그러나 0보다 작거나 1보다 큰 값은 없습니다. Min-Max 스케일링 말고도 절대값을 이용하는 MaxAbs Scaling, 이상치에 매우 강력한 Robust Scaling 등의 다양한 정규화 기법이 존재하고, sklearn 라이브러리를 이용하면 매우 쉽게 구현할 수 있습니다. 이에 대해서는 검색해보시면 더 자세한 결과를 얻을 수 있습니다."
      ]
    },
    {
      "cell_type": "markdown",
      "metadata": {
        "id": "WzEpqNoeuz3E"
      },
      "source": [
        "<br>\n",
        "\n",
        "#### 6.7. 공분산과 상관계수\n",
        "\n",
        "![](https://t1.daumcdn.net/cfile/tistory/266F3149593F4D1A2C)\n",
        "\n",
        "분산은 데이터와 평균이 얼마나 차이나느지에 관한 것이였습니다. 공분산은 두 개이상의 확률분포가 존재하고, 이 두 분포가 서로 어떤 관계를 가지고 있는지 계산하는 것입니다. 분산의 경우 $(x - mean)(x - mean)$의 평균이지만, 공분산은 $(x - mean_x)(y - mean_y)$의 평균입니다. 만약 공분산이 0보다 크면 양의 상관관계 (정비례) 관계가 있고, 만약 공분산이 0보다 작다면 음의 상관관계(반비례)관계가 됩니다. 식을 다시 정리해서 쓰면 아래와 같습니다.\n",
        "\n",
        "<br>\n",
        "$$Covariance(X, Y) = \\frac{1}{N} \\sum_{i} (x_i - mean_x)(y_i - mean_y)$$\n",
        "<br>\n",
        "\n",
        "그러나 공분산은 X와 Y의 단위에 크게 영향을 받습니다. X가 '키', Y가 '몸무게'라면 두 데이터의 단위가 다르고, 평균을 계산할때도 키의 평균과 몸무게의 평균은 차이가 있기 때문에 영향을 받을 수 밖에 없습니다.  이러한 문제를 해결하기 위해 상관계수라는 개념이 등장했습니다. 상관계수는 공분산을 정규화한 것으로 각각 데이터의 분산으로 나눠줘서 크기의 영향을 받지 않게 하였습니다. 상관계수의 정의는 아래와 같습니다.\n",
        "\n",
        "<br>\n",
        "$$p = \\frac{Cov(X, Y)}{\\sqrt{Var(X)Var(Y)}}$$\n",
        "<br>\n",
        "\n",
        "**상관관계가 1이라면 완전한 정비례, 상관관계가 -1이라면 완전한 반비례**입니다. 상관관계는 반드시 -1 ~ 1 사이의 값을 가지며, 두 데이터분포가 얼마나 서로 연관있는지를 나타냅니다.\n",
        "<br><br>"
      ]
    },
    {
      "cell_type": "markdown",
      "metadata": {
        "id": "2c-6iCSTuz3E"
      },
      "source": [
        "#### 6.8 다중공선성\n",
        "일반적으로 우리가 회귀분석을 할 때, 정답과 데이터간의 상관관계를 봅니다. 만약 키(데이터)가 어느정도 크면 몸무게(정답)도 어느정도 나간다. 라고 생각하고 모델링할 수 있습니다. 그러나 데이터-정답 간의 상관관계가 아니라 데이터-데이터 간의 상관관계가 나타나는 경우가 있습니다. 이를 다중공선성이라고 합니다. 다중공선성이 있으면 회귀분석의 결과가 매우 불안정해집니다. 따라서 여러개의 분포를 다루는 경우 상관관계를 꼭 분석해보고 다중공선성이 있는지 확인해봐야합니다.\n",
        "<br><br>\n",
        "\n",
        "통계는 여기까지 진행하고 다음시간에는 정보이론을 배우도록 하겠습니다."
      ]
    }
  ],
  "metadata": {
    "kernelspec": {
      "display_name": "Python 3",
      "language": "python",
      "name": "python3"
    },
    "language_info": {
      "codemirror_mode": {
        "name": "ipython",
        "version": 3
      },
      "file_extension": ".py",
      "mimetype": "text/x-python",
      "name": "python",
      "nbconvert_exporter": "python",
      "pygments_lexer": "ipython3",
      "version": "3.6.7"
    },
    "colab": {
      "provenance": []
    }
  },
  "nbformat": 4,
  "nbformat_minor": 0
}